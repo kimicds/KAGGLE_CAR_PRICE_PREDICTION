{
 "cells": [
  {
   "cell_type": "code",
   "execution_count": 2,
   "id": "bda38f0c",
   "metadata": {},
   "outputs": [],
   "source": [
    "import numpy as np\n",
    "import pandas as pd\n",
    "import os\n",
    "import optuna\n",
    "import matplotlib.pyplot as plt\n",
    "import seaborn as sns\n",
    "import re\n",
    "import warnings\n",
    "\n",
    "from sklearn.model_selection import KFold\n",
    "from sklearn.metrics import mean_squared_error\n",
    "from xgboost import XGBRegressor\n",
    "\n",
    "warnings.filterwarnings('ignore')"
   ]
  },
  {
   "cell_type": "code",
   "execution_count": 3,
   "id": "ae4d1944",
   "metadata": {},
   "outputs": [],
   "source": [
    "train_data = pd.read_csv('train.csv')\n",
    "test_data = pd.read_csv('test.csv')"
   ]
  },
  {
   "cell_type": "code",
   "execution_count": 4,
   "id": "348078e6",
   "metadata": {},
   "outputs": [],
   "source": [
    "categorical_columns = train_data.select_dtypes(include=['object', 'category']).columns.tolist()\n",
    "test_categorical_columns = test_data.select_dtypes(include=['object']).columns"
   ]
  },
  {
   "cell_type": "code",
   "execution_count": 5,
   "id": "f6eae677",
   "metadata": {},
   "outputs": [],
   "source": [
    "for col in test_categorical_columns:\n",
    "    category_list = sorted(train_data[col].dropna().unique())\n",
    "    col_dtype = pd.CategoricalDtype(categories=category_list, ordered=False)\n",
    "    \n",
    "    train_data.loc[~train_data[col].isin(category_list), col] = np.nan\n",
    "    test_data.loc[~test_data[col].isin(category_list), col] = np.nan\n",
    "    \n",
    "    train_data[col] = train_data[col].astype(col_dtype)\n",
    "    test_data[col] = test_data[col].astype(col_dtype)"
   ]
  },
  {
   "cell_type": "code",
   "execution_count": 6,
   "id": "263f5aab",
   "metadata": {},
   "outputs": [],
   "source": [
    "X_train_set = train_data.drop(columns=[\"id\", \"price\"])\n",
    "y_train_set = train_data[\"price\"]\n"
   ]
  },
  {
   "cell_type": "code",
   "execution_count": 7,
   "id": "77043f19",
   "metadata": {},
   "outputs": [],
   "source": [
    "X_test_set = test_data.drop(columns=[\"id\"])"
   ]
  },
  {
   "cell_type": "code",
   "execution_count": 8,
   "id": "02d6c3ce",
   "metadata": {},
   "outputs": [],
   "source": [
    "def perform_cross_validation(model_class, X_train_set, y_train_set, parameters, n_folds=5):\n",
    "    kfold = KFold(n_splits=n_folds, shuffle=True, random_state=42)\n",
    "    validation_scores = []\n",
    "    test_predictions = np.zeros((X_test_set.shape[0], n_folds), dtype=np.float32)\n",
    "    \n",
    "    # Loop over each fold\n",
    "    for fold_num, (train_idx, valid_idx) in enumerate(kfold.split(X_train_set)):\n",
    "        X_train_fold = X_train_set.iloc[train_idx]\n",
    "        y_train_fold = y_train_set.iloc[train_idx]\n",
    "        X_valid_fold = X_train_set.iloc[valid_idx]\n",
    "        y_valid_fold = y_train_set.iloc[valid_idx]\n",
    "        \n",
    "        # Initialize and train the model\n",
    "        regressor = model_class(**parameters, enable_categorical=True)\n",
    "        regressor.fit(X_train_fold, y_train_fold, eval_set=[(X_valid_fold, y_valid_fold)], verbose=500, early_stopping_rounds=50)\n",
    "        \n",
    "        # Store predictions\n",
    "        test_predictions[:, fold_num] = regressor.predict(X_test_set)\n",
    "        \n",
    "        print(f\"Completed fold {fold_num + 1}\")\n",
    "        print('-' * 50)\n",
    "    \n",
    "    # Average the predictions over the folds\n",
    "    final_predictions = np.mean(test_predictions, axis=1)\n",
    "    return regressor, final_predictions"
   ]
  },
  {
   "cell_type": "code",
   "execution_count": 10,
   "id": "e54d5b9a",
   "metadata": {},
   "outputs": [
    {
     "name": "stdout",
     "output_type": "stream",
     "text": [
      "Running XGBoost Cross-Validation...\n",
      "\n",
      "[0]\tvalidation_0-rmse:74419.29006\n",
      "[366]\tvalidation_0-rmse:67883.05468\n",
      "Completed fold 1\n",
      "--------------------------------------------------\n",
      "[0]\tvalidation_0-rmse:74718.92972\n",
      "[389]\tvalidation_0-rmse:68677.14311\n",
      "Completed fold 2\n",
      "--------------------------------------------------\n",
      "[0]\tvalidation_0-rmse:79476.68630\n",
      "[307]\tvalidation_0-rmse:73917.39141\n",
      "Completed fold 3\n",
      "--------------------------------------------------\n",
      "[0]\tvalidation_0-rmse:82309.87939\n",
      "[416]\tvalidation_0-rmse:76439.98025\n",
      "Completed fold 4\n",
      "--------------------------------------------------\n",
      "[0]\tvalidation_0-rmse:82069.43187\n",
      "[359]\tvalidation_0-rmse:76258.41618\n",
      "Completed fold 5\n",
      "--------------------------------------------------\n"
     ]
    }
   ],
   "source": [
    "xgboost_params = {\n",
    "    'lambda': 0.03880258557285165,\n",
    "    'alpha': 0.02129832295514386,\n",
    "    'colsample_bytree': 0.4,\n",
    "    'subsample': 0.7,\n",
    "    'learning_rate': 0.014,\n",
    "    'max_depth': 17,\n",
    "    'random_state': 2020,\n",
    "    'min_child_weight': 85,\n",
    "    'n_estimators': 10000,\n",
    "    #'tree_method': 'gpu_hist'\n",
    "}\n",
    "\n",
    "print('Running XGBoost Cross-Validation...\\n')\n",
    "# Perform cross-validation with the XGBoost model\n",
    "xgb_trained_model, xgb_test_predictions = perform_cross_validation(XGBRegressor, X_train_set, y_train_set, xgboost_params)"
   ]
  },
  {
   "cell_type": "code",
   "execution_count": 11,
   "id": "5cdf9446",
   "metadata": {},
   "outputs": [],
   "source": [
    "submission_df = pd.read_csv('sample_submission.csv')\n",
    "submission_df['price'] = xgb_test_predictions.astype(np.float32)\n",
    "\n",
    "submission_df.to_csv('submission_second.csv', index=False)"
   ]
  },
  {
   "cell_type": "code",
   "execution_count": null,
   "id": "5d800674",
   "metadata": {},
   "outputs": [],
   "source": []
  }
 ],
 "metadata": {
  "kernelspec": {
   "display_name": "Python 3 (ipykernel)",
   "language": "python",
   "name": "python3"
  },
  "language_info": {
   "codemirror_mode": {
    "name": "ipython",
    "version": 3
   },
   "file_extension": ".py",
   "mimetype": "text/x-python",
   "name": "python",
   "nbconvert_exporter": "python",
   "pygments_lexer": "ipython3",
   "version": "3.10.9"
  }
 },
 "nbformat": 4,
 "nbformat_minor": 5
}
